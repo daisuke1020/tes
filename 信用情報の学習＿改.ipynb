{
 "cells": [
  {
   "cell_type": "markdown",
   "id": "de581ea2-d618-4ddc-9bcd-c1d1878576ab",
   "metadata": {},
   "source": [
    "# 【問題1】コンペティション内容の確認"
   ]
  },
  {
   "cell_type": "markdown",
   "id": "e9a31ec7-8c5c-4e5f-96dc-4d038e016fd6",
   "metadata": {},
   "source": [
    "## コンペティションのOverviewページ読み、「Home Credit Default Risk」について以下の観点について確認してください。"
   ]
  },
  {
   "cell_type": "markdown",
   "id": "ca190f2b-46b0-4074-9fa3-0401f4ef95a6",
   "metadata": {},
   "source": [
    "# 何を学習し、何を予測するのか"
   ]
  },
  {
   "cell_type": "markdown",
   "id": "b68a9b76-d9b0-421f-8900-3dad00c9f7ca",
   "metadata": {},
   "source": [
    " - クライアントの特徴項目を学習し、返済能力を予測する。"
   ]
  },
  {
   "cell_type": "markdown",
   "id": "23046624-7ab4-4c60-b394-47bb94590ee7",
   "metadata": {},
   "source": [
    "## どのようなファイルを作りKaggleに提出するか"
   ]
  },
  {
   "cell_type": "markdown",
   "id": "0bf654ed-995e-4332-baef-31b4c669631a",
   "metadata": {},
   "source": [
    "- 特徴量同士の関係性を調べ、返済能力に関わりの深い項目を抜擢し、最終的な見解を加えて提出"
   ]
  },
  {
   "cell_type": "markdown",
   "id": "7759f8a3-af02-494a-a68c-92f8b324bd9c",
   "metadata": {},
   "source": [
    "## 提出されたものはどういった指標値で評価されるのか"
   ]
  },
  {
   "cell_type": "markdown",
   "id": "e8083191-4b13-4aba-9a81-c617b510ee41",
   "metadata": {},
   "source": [
    "- 提出物は 、予測された確率と観察されたターゲットの間のROC曲線の下の領域で評価されます。"
   ]
  },
  {
   "cell_type": "markdown",
   "id": "39143a78-408d-4af0-ae3e-245bef5f6a78",
   "metadata": {},
   "source": [
    "まずは単純な方法による ベースラインモデル　を作成します。精度の基準となるモデルです。\n",
    "精度を高くする必要はありません。エラーなく実行でき、Kaggle側に推定値を提出できることを目指します。"
   ]
  },
  {
   "cell_type": "markdown",
   "id": "cbfc5a36-ac55-42f5-b3ea-8f86d870ac83",
   "metadata": {},
   "source": [
    "# 【問題2】学習と検証"
   ]
  },
  {
   "cell_type": "markdown",
   "id": "d455955e-d146-4eee-8052-e6cf61e21678",
   "metadata": {},
   "source": [
    "データを簡単に分析、前処理し、学習、検証するまでの一連の流れを作成・実行してください。\n",
    "検証にはこのコンペティションで使用される評価指標を用いるようにしてください。学習に用いる手法は指定しません。"
   ]
  },
  {
   "cell_type": "markdown",
   "id": "01010d0d-968c-444a-b923-99b30d357482",
   "metadata": {},
   "source": [
    "データの分析\n",
    "　　目的変数に関わりの深い項目をピックアップし、検証する\n",
    "  　二値分類か多値分類か選択する\n",
    "前処理\n",
    "　　ピックアップした項目を加工する\n",
    "    訓練用にデータを分割する\n",
    "学習方法を選び、必要なら標準化をする\n",
    "　　検証データをメソッドを使い推定する\n",
    "　　検証データの特徴量を入力して得られた推定値と、検証データの正解値の近さを計算し、学習したモデルを評価します\n",
    "必要に応じて可視化する\n",
    "ROC曲線を作成\n",
    "　　予測された確率と観察されたターゲットの間のROC曲線の下の領域で評価される\n",
    "テストデータに対して推定を行い、Kaggleに提出を行う"
   ]
  },
  {
   "cell_type": "code",
   "execution_count": 1,
   "id": "9a234672-20f2-43f8-977c-4c2927f44d1d",
   "metadata": {},
   "outputs": [
    {
     "data": {
      "text/html": [
       "<div>\n",
       "<style scoped>\n",
       "    .dataframe tbody tr th:only-of-type {\n",
       "        vertical-align: middle;\n",
       "    }\n",
       "\n",
       "    .dataframe tbody tr th {\n",
       "        vertical-align: top;\n",
       "    }\n",
       "\n",
       "    .dataframe thead th {\n",
       "        text-align: right;\n",
       "    }\n",
       "</style>\n",
       "<table border=\"1\" class=\"dataframe\">\n",
       "  <thead>\n",
       "    <tr style=\"text-align: right;\">\n",
       "      <th></th>\n",
       "      <th>SK_ID_CURR</th>\n",
       "      <th>TARGET</th>\n",
       "      <th>NAME_CONTRACT_TYPE</th>\n",
       "      <th>CODE_GENDER</th>\n",
       "      <th>FLAG_OWN_CAR</th>\n",
       "      <th>FLAG_OWN_REALTY</th>\n",
       "      <th>CNT_CHILDREN</th>\n",
       "      <th>AMT_INCOME_TOTAL</th>\n",
       "      <th>AMT_CREDIT</th>\n",
       "      <th>AMT_ANNUITY</th>\n",
       "      <th>...</th>\n",
       "      <th>FLAG_DOCUMENT_18</th>\n",
       "      <th>FLAG_DOCUMENT_19</th>\n",
       "      <th>FLAG_DOCUMENT_20</th>\n",
       "      <th>FLAG_DOCUMENT_21</th>\n",
       "      <th>AMT_REQ_CREDIT_BUREAU_HOUR</th>\n",
       "      <th>AMT_REQ_CREDIT_BUREAU_DAY</th>\n",
       "      <th>AMT_REQ_CREDIT_BUREAU_WEEK</th>\n",
       "      <th>AMT_REQ_CREDIT_BUREAU_MON</th>\n",
       "      <th>AMT_REQ_CREDIT_BUREAU_QRT</th>\n",
       "      <th>AMT_REQ_CREDIT_BUREAU_YEAR</th>\n",
       "    </tr>\n",
       "  </thead>\n",
       "  <tbody>\n",
       "    <tr>\n",
       "      <th>0</th>\n",
       "      <td>100002</td>\n",
       "      <td>1</td>\n",
       "      <td>Cash loans</td>\n",
       "      <td>M</td>\n",
       "      <td>N</td>\n",
       "      <td>Y</td>\n",
       "      <td>0</td>\n",
       "      <td>202500.0</td>\n",
       "      <td>406597.5</td>\n",
       "      <td>24700.5</td>\n",
       "      <td>...</td>\n",
       "      <td>0</td>\n",
       "      <td>0</td>\n",
       "      <td>0</td>\n",
       "      <td>0</td>\n",
       "      <td>0.0</td>\n",
       "      <td>0.0</td>\n",
       "      <td>0.0</td>\n",
       "      <td>0.0</td>\n",
       "      <td>0.0</td>\n",
       "      <td>1.0</td>\n",
       "    </tr>\n",
       "    <tr>\n",
       "      <th>1</th>\n",
       "      <td>100003</td>\n",
       "      <td>0</td>\n",
       "      <td>Cash loans</td>\n",
       "      <td>F</td>\n",
       "      <td>N</td>\n",
       "      <td>N</td>\n",
       "      <td>0</td>\n",
       "      <td>270000.0</td>\n",
       "      <td>1293502.5</td>\n",
       "      <td>35698.5</td>\n",
       "      <td>...</td>\n",
       "      <td>0</td>\n",
       "      <td>0</td>\n",
       "      <td>0</td>\n",
       "      <td>0</td>\n",
       "      <td>0.0</td>\n",
       "      <td>0.0</td>\n",
       "      <td>0.0</td>\n",
       "      <td>0.0</td>\n",
       "      <td>0.0</td>\n",
       "      <td>0.0</td>\n",
       "    </tr>\n",
       "    <tr>\n",
       "      <th>2</th>\n",
       "      <td>100004</td>\n",
       "      <td>0</td>\n",
       "      <td>Revolving loans</td>\n",
       "      <td>M</td>\n",
       "      <td>Y</td>\n",
       "      <td>Y</td>\n",
       "      <td>0</td>\n",
       "      <td>67500.0</td>\n",
       "      <td>135000.0</td>\n",
       "      <td>6750.0</td>\n",
       "      <td>...</td>\n",
       "      <td>0</td>\n",
       "      <td>0</td>\n",
       "      <td>0</td>\n",
       "      <td>0</td>\n",
       "      <td>0.0</td>\n",
       "      <td>0.0</td>\n",
       "      <td>0.0</td>\n",
       "      <td>0.0</td>\n",
       "      <td>0.0</td>\n",
       "      <td>0.0</td>\n",
       "    </tr>\n",
       "    <tr>\n",
       "      <th>3</th>\n",
       "      <td>100006</td>\n",
       "      <td>0</td>\n",
       "      <td>Cash loans</td>\n",
       "      <td>F</td>\n",
       "      <td>N</td>\n",
       "      <td>Y</td>\n",
       "      <td>0</td>\n",
       "      <td>135000.0</td>\n",
       "      <td>312682.5</td>\n",
       "      <td>29686.5</td>\n",
       "      <td>...</td>\n",
       "      <td>0</td>\n",
       "      <td>0</td>\n",
       "      <td>0</td>\n",
       "      <td>0</td>\n",
       "      <td>NaN</td>\n",
       "      <td>NaN</td>\n",
       "      <td>NaN</td>\n",
       "      <td>NaN</td>\n",
       "      <td>NaN</td>\n",
       "      <td>NaN</td>\n",
       "    </tr>\n",
       "    <tr>\n",
       "      <th>4</th>\n",
       "      <td>100007</td>\n",
       "      <td>0</td>\n",
       "      <td>Cash loans</td>\n",
       "      <td>M</td>\n",
       "      <td>N</td>\n",
       "      <td>Y</td>\n",
       "      <td>0</td>\n",
       "      <td>121500.0</td>\n",
       "      <td>513000.0</td>\n",
       "      <td>21865.5</td>\n",
       "      <td>...</td>\n",
       "      <td>0</td>\n",
       "      <td>0</td>\n",
       "      <td>0</td>\n",
       "      <td>0</td>\n",
       "      <td>0.0</td>\n",
       "      <td>0.0</td>\n",
       "      <td>0.0</td>\n",
       "      <td>0.0</td>\n",
       "      <td>0.0</td>\n",
       "      <td>0.0</td>\n",
       "    </tr>\n",
       "    <tr>\n",
       "      <th>...</th>\n",
       "      <td>...</td>\n",
       "      <td>...</td>\n",
       "      <td>...</td>\n",
       "      <td>...</td>\n",
       "      <td>...</td>\n",
       "      <td>...</td>\n",
       "      <td>...</td>\n",
       "      <td>...</td>\n",
       "      <td>...</td>\n",
       "      <td>...</td>\n",
       "      <td>...</td>\n",
       "      <td>...</td>\n",
       "      <td>...</td>\n",
       "      <td>...</td>\n",
       "      <td>...</td>\n",
       "      <td>...</td>\n",
       "      <td>...</td>\n",
       "      <td>...</td>\n",
       "      <td>...</td>\n",
       "      <td>...</td>\n",
       "      <td>...</td>\n",
       "    </tr>\n",
       "    <tr>\n",
       "      <th>307506</th>\n",
       "      <td>456251</td>\n",
       "      <td>0</td>\n",
       "      <td>Cash loans</td>\n",
       "      <td>M</td>\n",
       "      <td>N</td>\n",
       "      <td>N</td>\n",
       "      <td>0</td>\n",
       "      <td>157500.0</td>\n",
       "      <td>254700.0</td>\n",
       "      <td>27558.0</td>\n",
       "      <td>...</td>\n",
       "      <td>0</td>\n",
       "      <td>0</td>\n",
       "      <td>0</td>\n",
       "      <td>0</td>\n",
       "      <td>NaN</td>\n",
       "      <td>NaN</td>\n",
       "      <td>NaN</td>\n",
       "      <td>NaN</td>\n",
       "      <td>NaN</td>\n",
       "      <td>NaN</td>\n",
       "    </tr>\n",
       "    <tr>\n",
       "      <th>307507</th>\n",
       "      <td>456252</td>\n",
       "      <td>0</td>\n",
       "      <td>Cash loans</td>\n",
       "      <td>F</td>\n",
       "      <td>N</td>\n",
       "      <td>Y</td>\n",
       "      <td>0</td>\n",
       "      <td>72000.0</td>\n",
       "      <td>269550.0</td>\n",
       "      <td>12001.5</td>\n",
       "      <td>...</td>\n",
       "      <td>0</td>\n",
       "      <td>0</td>\n",
       "      <td>0</td>\n",
       "      <td>0</td>\n",
       "      <td>NaN</td>\n",
       "      <td>NaN</td>\n",
       "      <td>NaN</td>\n",
       "      <td>NaN</td>\n",
       "      <td>NaN</td>\n",
       "      <td>NaN</td>\n",
       "    </tr>\n",
       "    <tr>\n",
       "      <th>307508</th>\n",
       "      <td>456253</td>\n",
       "      <td>0</td>\n",
       "      <td>Cash loans</td>\n",
       "      <td>F</td>\n",
       "      <td>N</td>\n",
       "      <td>Y</td>\n",
       "      <td>0</td>\n",
       "      <td>153000.0</td>\n",
       "      <td>677664.0</td>\n",
       "      <td>29979.0</td>\n",
       "      <td>...</td>\n",
       "      <td>0</td>\n",
       "      <td>0</td>\n",
       "      <td>0</td>\n",
       "      <td>0</td>\n",
       "      <td>1.0</td>\n",
       "      <td>0.0</td>\n",
       "      <td>0.0</td>\n",
       "      <td>1.0</td>\n",
       "      <td>0.0</td>\n",
       "      <td>1.0</td>\n",
       "    </tr>\n",
       "    <tr>\n",
       "      <th>307509</th>\n",
       "      <td>456254</td>\n",
       "      <td>1</td>\n",
       "      <td>Cash loans</td>\n",
       "      <td>F</td>\n",
       "      <td>N</td>\n",
       "      <td>Y</td>\n",
       "      <td>0</td>\n",
       "      <td>171000.0</td>\n",
       "      <td>370107.0</td>\n",
       "      <td>20205.0</td>\n",
       "      <td>...</td>\n",
       "      <td>0</td>\n",
       "      <td>0</td>\n",
       "      <td>0</td>\n",
       "      <td>0</td>\n",
       "      <td>0.0</td>\n",
       "      <td>0.0</td>\n",
       "      <td>0.0</td>\n",
       "      <td>0.0</td>\n",
       "      <td>0.0</td>\n",
       "      <td>0.0</td>\n",
       "    </tr>\n",
       "    <tr>\n",
       "      <th>307510</th>\n",
       "      <td>456255</td>\n",
       "      <td>0</td>\n",
       "      <td>Cash loans</td>\n",
       "      <td>F</td>\n",
       "      <td>N</td>\n",
       "      <td>N</td>\n",
       "      <td>0</td>\n",
       "      <td>157500.0</td>\n",
       "      <td>675000.0</td>\n",
       "      <td>49117.5</td>\n",
       "      <td>...</td>\n",
       "      <td>0</td>\n",
       "      <td>0</td>\n",
       "      <td>0</td>\n",
       "      <td>0</td>\n",
       "      <td>0.0</td>\n",
       "      <td>0.0</td>\n",
       "      <td>0.0</td>\n",
       "      <td>2.0</td>\n",
       "      <td>0.0</td>\n",
       "      <td>1.0</td>\n",
       "    </tr>\n",
       "  </tbody>\n",
       "</table>\n",
       "<p>307511 rows × 122 columns</p>\n",
       "</div>"
      ],
      "text/plain": [
       "        SK_ID_CURR  TARGET NAME_CONTRACT_TYPE CODE_GENDER FLAG_OWN_CAR  \\\n",
       "0           100002       1         Cash loans           M            N   \n",
       "1           100003       0         Cash loans           F            N   \n",
       "2           100004       0    Revolving loans           M            Y   \n",
       "3           100006       0         Cash loans           F            N   \n",
       "4           100007       0         Cash loans           M            N   \n",
       "...            ...     ...                ...         ...          ...   \n",
       "307506      456251       0         Cash loans           M            N   \n",
       "307507      456252       0         Cash loans           F            N   \n",
       "307508      456253       0         Cash loans           F            N   \n",
       "307509      456254       1         Cash loans           F            N   \n",
       "307510      456255       0         Cash loans           F            N   \n",
       "\n",
       "       FLAG_OWN_REALTY  CNT_CHILDREN  AMT_INCOME_TOTAL  AMT_CREDIT  \\\n",
       "0                    Y             0          202500.0    406597.5   \n",
       "1                    N             0          270000.0   1293502.5   \n",
       "2                    Y             0           67500.0    135000.0   \n",
       "3                    Y             0          135000.0    312682.5   \n",
       "4                    Y             0          121500.0    513000.0   \n",
       "...                ...           ...               ...         ...   \n",
       "307506               N             0          157500.0    254700.0   \n",
       "307507               Y             0           72000.0    269550.0   \n",
       "307508               Y             0          153000.0    677664.0   \n",
       "307509               Y             0          171000.0    370107.0   \n",
       "307510               N             0          157500.0    675000.0   \n",
       "\n",
       "        AMT_ANNUITY  ...  FLAG_DOCUMENT_18 FLAG_DOCUMENT_19 FLAG_DOCUMENT_20  \\\n",
       "0           24700.5  ...                 0                0                0   \n",
       "1           35698.5  ...                 0                0                0   \n",
       "2            6750.0  ...                 0                0                0   \n",
       "3           29686.5  ...                 0                0                0   \n",
       "4           21865.5  ...                 0                0                0   \n",
       "...             ...  ...               ...              ...              ...   \n",
       "307506      27558.0  ...                 0                0                0   \n",
       "307507      12001.5  ...                 0                0                0   \n",
       "307508      29979.0  ...                 0                0                0   \n",
       "307509      20205.0  ...                 0                0                0   \n",
       "307510      49117.5  ...                 0                0                0   \n",
       "\n",
       "       FLAG_DOCUMENT_21 AMT_REQ_CREDIT_BUREAU_HOUR AMT_REQ_CREDIT_BUREAU_DAY  \\\n",
       "0                     0                        0.0                       0.0   \n",
       "1                     0                        0.0                       0.0   \n",
       "2                     0                        0.0                       0.0   \n",
       "3                     0                        NaN                       NaN   \n",
       "4                     0                        0.0                       0.0   \n",
       "...                 ...                        ...                       ...   \n",
       "307506                0                        NaN                       NaN   \n",
       "307507                0                        NaN                       NaN   \n",
       "307508                0                        1.0                       0.0   \n",
       "307509                0                        0.0                       0.0   \n",
       "307510                0                        0.0                       0.0   \n",
       "\n",
       "        AMT_REQ_CREDIT_BUREAU_WEEK  AMT_REQ_CREDIT_BUREAU_MON  \\\n",
       "0                              0.0                        0.0   \n",
       "1                              0.0                        0.0   \n",
       "2                              0.0                        0.0   \n",
       "3                              NaN                        NaN   \n",
       "4                              0.0                        0.0   \n",
       "...                            ...                        ...   \n",
       "307506                         NaN                        NaN   \n",
       "307507                         NaN                        NaN   \n",
       "307508                         0.0                        1.0   \n",
       "307509                         0.0                        0.0   \n",
       "307510                         0.0                        2.0   \n",
       "\n",
       "        AMT_REQ_CREDIT_BUREAU_QRT  AMT_REQ_CREDIT_BUREAU_YEAR  \n",
       "0                             0.0                         1.0  \n",
       "1                             0.0                         0.0  \n",
       "2                             0.0                         0.0  \n",
       "3                             NaN                         NaN  \n",
       "4                             0.0                         0.0  \n",
       "...                           ...                         ...  \n",
       "307506                        NaN                         NaN  \n",
       "307507                        NaN                         NaN  \n",
       "307508                        0.0                         1.0  \n",
       "307509                        0.0                         0.0  \n",
       "307510                        0.0                         1.0  \n",
       "\n",
       "[307511 rows x 122 columns]"
      ]
     },
     "execution_count": 1,
     "metadata": {},
     "output_type": "execute_result"
    }
   ],
   "source": [
    "#主要なものをインポートする\n",
    "import missingno as msno\n",
    "import pandas as pd\n",
    "import numpy as np\n",
    "import matplotlib.pyplot as plt\n",
    "%matplotlib inline\n",
    "import seaborn as sns\n",
    "import warnings #ワーニング関連のモジュール？\n",
    "warnings.filterwarnings('ignore') #ワーニングが消える？\n",
    "\n",
    "\n",
    "df = pd.read_csv(\"application_train.csv\")\n",
    "#検証\n",
    "df\n",
    "#ROC曲線を描くには、真陽性率（TPR）と偽陽性率（FPR）のみが必要です\n",
    "#TPRは、テスト中に利用可能なすべての陽性サンプルの中で発生する正しい陽性結果の数を定義します\n",
    "#FPRは、テスト中に利用可能なすべての陰性サンプルの中で発生する誤った陽性結果の数を"
   ]
  },
  {
   "cell_type": "markdown",
   "id": "bef74af8-d3b4-44b4-965f-bddef0854869",
   "metadata": {},
   "source": [
    "## データフレームの情報"
   ]
  },
  {
   "cell_type": "code",
   "execution_count": 2,
   "id": "4477e959-42ec-492c-ae7b-b6df442f66b1",
   "metadata": {},
   "outputs": [
    {
     "name": "stdout",
     "output_type": "stream",
     "text": [
      "<class 'pandas.core.frame.DataFrame'>\n",
      "RangeIndex: 307511 entries, 0 to 307510\n",
      "Columns: 122 entries, SK_ID_CURR to AMT_REQ_CREDIT_BUREAU_YEAR\n",
      "dtypes: float64(65), int64(41), object(16)\n",
      "memory usage: 286.2+ MB\n"
     ]
    }
   ],
   "source": [
    "#情報\n",
    "df.info()"
   ]
  },
  {
   "cell_type": "code",
   "execution_count": 3,
   "id": "03f65b9b-dfc0-4c1c-89df-5536d24b9926",
   "metadata": {},
   "outputs": [
    {
     "data": {
      "text/plain": [
       "(307511, 122)"
      ]
     },
     "execution_count": 3,
     "metadata": {},
     "output_type": "execute_result"
    }
   ],
   "source": [
    "#大きさ\n",
    "df.shape"
   ]
  },
  {
   "cell_type": "code",
   "execution_count": 4,
   "id": "dc6e5176-4614-4c98-a842-e0e13d9b8191",
   "metadata": {},
   "outputs": [
    {
     "data": {
      "text/html": [
       "<div>\n",
       "<style scoped>\n",
       "    .dataframe tbody tr th:only-of-type {\n",
       "        vertical-align: middle;\n",
       "    }\n",
       "\n",
       "    .dataframe tbody tr th {\n",
       "        vertical-align: top;\n",
       "    }\n",
       "\n",
       "    .dataframe thead th {\n",
       "        text-align: right;\n",
       "    }\n",
       "</style>\n",
       "<table border=\"1\" class=\"dataframe\">\n",
       "  <thead>\n",
       "    <tr style=\"text-align: right;\">\n",
       "      <th></th>\n",
       "      <th>SK_ID_CURR</th>\n",
       "      <th>TARGET</th>\n",
       "      <th>NAME_CONTRACT_TYPE</th>\n",
       "      <th>CODE_GENDER</th>\n",
       "      <th>FLAG_OWN_CAR</th>\n",
       "      <th>FLAG_OWN_REALTY</th>\n",
       "      <th>CNT_CHILDREN</th>\n",
       "      <th>AMT_INCOME_TOTAL</th>\n",
       "      <th>AMT_CREDIT</th>\n",
       "      <th>AMT_ANNUITY</th>\n",
       "      <th>...</th>\n",
       "      <th>FLAG_DOCUMENT_18</th>\n",
       "      <th>FLAG_DOCUMENT_19</th>\n",
       "      <th>FLAG_DOCUMENT_20</th>\n",
       "      <th>FLAG_DOCUMENT_21</th>\n",
       "      <th>AMT_REQ_CREDIT_BUREAU_HOUR</th>\n",
       "      <th>AMT_REQ_CREDIT_BUREAU_DAY</th>\n",
       "      <th>AMT_REQ_CREDIT_BUREAU_WEEK</th>\n",
       "      <th>AMT_REQ_CREDIT_BUREAU_MON</th>\n",
       "      <th>AMT_REQ_CREDIT_BUREAU_QRT</th>\n",
       "      <th>AMT_REQ_CREDIT_BUREAU_YEAR</th>\n",
       "    </tr>\n",
       "  </thead>\n",
       "  <tbody>\n",
       "    <tr>\n",
       "      <th>0</th>\n",
       "      <td>100002</td>\n",
       "      <td>1</td>\n",
       "      <td>Cash loans</td>\n",
       "      <td>M</td>\n",
       "      <td>N</td>\n",
       "      <td>Y</td>\n",
       "      <td>0</td>\n",
       "      <td>202500.0</td>\n",
       "      <td>406597.5</td>\n",
       "      <td>24700.5</td>\n",
       "      <td>...</td>\n",
       "      <td>0</td>\n",
       "      <td>0</td>\n",
       "      <td>0</td>\n",
       "      <td>0</td>\n",
       "      <td>0.0</td>\n",
       "      <td>0.0</td>\n",
       "      <td>0.0</td>\n",
       "      <td>0.0</td>\n",
       "      <td>0.0</td>\n",
       "      <td>1.0</td>\n",
       "    </tr>\n",
       "    <tr>\n",
       "      <th>1</th>\n",
       "      <td>100003</td>\n",
       "      <td>0</td>\n",
       "      <td>Cash loans</td>\n",
       "      <td>F</td>\n",
       "      <td>N</td>\n",
       "      <td>N</td>\n",
       "      <td>0</td>\n",
       "      <td>270000.0</td>\n",
       "      <td>1293502.5</td>\n",
       "      <td>35698.5</td>\n",
       "      <td>...</td>\n",
       "      <td>0</td>\n",
       "      <td>0</td>\n",
       "      <td>0</td>\n",
       "      <td>0</td>\n",
       "      <td>0.0</td>\n",
       "      <td>0.0</td>\n",
       "      <td>0.0</td>\n",
       "      <td>0.0</td>\n",
       "      <td>0.0</td>\n",
       "      <td>0.0</td>\n",
       "    </tr>\n",
       "    <tr>\n",
       "      <th>2</th>\n",
       "      <td>100004</td>\n",
       "      <td>0</td>\n",
       "      <td>Revolving loans</td>\n",
       "      <td>M</td>\n",
       "      <td>Y</td>\n",
       "      <td>Y</td>\n",
       "      <td>0</td>\n",
       "      <td>67500.0</td>\n",
       "      <td>135000.0</td>\n",
       "      <td>6750.0</td>\n",
       "      <td>...</td>\n",
       "      <td>0</td>\n",
       "      <td>0</td>\n",
       "      <td>0</td>\n",
       "      <td>0</td>\n",
       "      <td>0.0</td>\n",
       "      <td>0.0</td>\n",
       "      <td>0.0</td>\n",
       "      <td>0.0</td>\n",
       "      <td>0.0</td>\n",
       "      <td>0.0</td>\n",
       "    </tr>\n",
       "    <tr>\n",
       "      <th>3</th>\n",
       "      <td>100006</td>\n",
       "      <td>0</td>\n",
       "      <td>Cash loans</td>\n",
       "      <td>F</td>\n",
       "      <td>N</td>\n",
       "      <td>Y</td>\n",
       "      <td>0</td>\n",
       "      <td>135000.0</td>\n",
       "      <td>312682.5</td>\n",
       "      <td>29686.5</td>\n",
       "      <td>...</td>\n",
       "      <td>0</td>\n",
       "      <td>0</td>\n",
       "      <td>0</td>\n",
       "      <td>0</td>\n",
       "      <td>NaN</td>\n",
       "      <td>NaN</td>\n",
       "      <td>NaN</td>\n",
       "      <td>NaN</td>\n",
       "      <td>NaN</td>\n",
       "      <td>NaN</td>\n",
       "    </tr>\n",
       "    <tr>\n",
       "      <th>4</th>\n",
       "      <td>100007</td>\n",
       "      <td>0</td>\n",
       "      <td>Cash loans</td>\n",
       "      <td>M</td>\n",
       "      <td>N</td>\n",
       "      <td>Y</td>\n",
       "      <td>0</td>\n",
       "      <td>121500.0</td>\n",
       "      <td>513000.0</td>\n",
       "      <td>21865.5</td>\n",
       "      <td>...</td>\n",
       "      <td>0</td>\n",
       "      <td>0</td>\n",
       "      <td>0</td>\n",
       "      <td>0</td>\n",
       "      <td>0.0</td>\n",
       "      <td>0.0</td>\n",
       "      <td>0.0</td>\n",
       "      <td>0.0</td>\n",
       "      <td>0.0</td>\n",
       "      <td>0.0</td>\n",
       "    </tr>\n",
       "  </tbody>\n",
       "</table>\n",
       "<p>5 rows × 122 columns</p>\n",
       "</div>"
      ],
      "text/plain": [
       "   SK_ID_CURR  TARGET NAME_CONTRACT_TYPE CODE_GENDER FLAG_OWN_CAR  \\\n",
       "0      100002       1         Cash loans           M            N   \n",
       "1      100003       0         Cash loans           F            N   \n",
       "2      100004       0    Revolving loans           M            Y   \n",
       "3      100006       0         Cash loans           F            N   \n",
       "4      100007       0         Cash loans           M            N   \n",
       "\n",
       "  FLAG_OWN_REALTY  CNT_CHILDREN  AMT_INCOME_TOTAL  AMT_CREDIT  AMT_ANNUITY  \\\n",
       "0               Y             0          202500.0    406597.5      24700.5   \n",
       "1               N             0          270000.0   1293502.5      35698.5   \n",
       "2               Y             0           67500.0    135000.0       6750.0   \n",
       "3               Y             0          135000.0    312682.5      29686.5   \n",
       "4               Y             0          121500.0    513000.0      21865.5   \n",
       "\n",
       "   ...  FLAG_DOCUMENT_18 FLAG_DOCUMENT_19 FLAG_DOCUMENT_20 FLAG_DOCUMENT_21  \\\n",
       "0  ...                 0                0                0                0   \n",
       "1  ...                 0                0                0                0   \n",
       "2  ...                 0                0                0                0   \n",
       "3  ...                 0                0                0                0   \n",
       "4  ...                 0                0                0                0   \n",
       "\n",
       "  AMT_REQ_CREDIT_BUREAU_HOUR AMT_REQ_CREDIT_BUREAU_DAY  \\\n",
       "0                        0.0                       0.0   \n",
       "1                        0.0                       0.0   \n",
       "2                        0.0                       0.0   \n",
       "3                        NaN                       NaN   \n",
       "4                        0.0                       0.0   \n",
       "\n",
       "   AMT_REQ_CREDIT_BUREAU_WEEK  AMT_REQ_CREDIT_BUREAU_MON  \\\n",
       "0                         0.0                        0.0   \n",
       "1                         0.0                        0.0   \n",
       "2                         0.0                        0.0   \n",
       "3                         NaN                        NaN   \n",
       "4                         0.0                        0.0   \n",
       "\n",
       "   AMT_REQ_CREDIT_BUREAU_QRT  AMT_REQ_CREDIT_BUREAU_YEAR  \n",
       "0                        0.0                         1.0  \n",
       "1                        0.0                         0.0  \n",
       "2                        0.0                         0.0  \n",
       "3                        NaN                         NaN  \n",
       "4                        0.0                         0.0  \n",
       "\n",
       "[5 rows x 122 columns]"
      ]
     },
     "execution_count": 4,
     "metadata": {},
     "output_type": "execute_result"
    }
   ],
   "source": [
    "#確認\n",
    "df.head()"
   ]
  },
  {
   "cell_type": "markdown",
   "id": "31bf009d-d36e-402f-b440-9035ec6ab5bf",
   "metadata": {},
   "source": [
    "## 前処理\n",
    "\n",
    "AMT_INCOME_TOTAL,AMT_CREDIT,AMT_GOODS_PRICEを比較特徴量として抜き出す。"
   ]
  },
  {
   "cell_type": "code",
   "execution_count": 5,
   "id": "ff4dd903-3d83-4d44-b8dd-592513757cb0",
   "metadata": {},
   "outputs": [
    {
     "data": {
      "text/html": [
       "<div>\n",
       "<style scoped>\n",
       "    .dataframe tbody tr th:only-of-type {\n",
       "        vertical-align: middle;\n",
       "    }\n",
       "\n",
       "    .dataframe tbody tr th {\n",
       "        vertical-align: top;\n",
       "    }\n",
       "\n",
       "    .dataframe thead th {\n",
       "        text-align: right;\n",
       "    }\n",
       "</style>\n",
       "<table border=\"1\" class=\"dataframe\">\n",
       "  <thead>\n",
       "    <tr style=\"text-align: right;\">\n",
       "      <th></th>\n",
       "      <th>AMT_INCOME_TOTAL</th>\n",
       "      <th>AMT_CREDIT</th>\n",
       "      <th>TARGET</th>\n",
       "    </tr>\n",
       "  </thead>\n",
       "  <tbody>\n",
       "    <tr>\n",
       "      <th>0</th>\n",
       "      <td>202500.0</td>\n",
       "      <td>406597.5</td>\n",
       "      <td>1</td>\n",
       "    </tr>\n",
       "    <tr>\n",
       "      <th>1</th>\n",
       "      <td>270000.0</td>\n",
       "      <td>1293502.5</td>\n",
       "      <td>0</td>\n",
       "    </tr>\n",
       "    <tr>\n",
       "      <th>2</th>\n",
       "      <td>67500.0</td>\n",
       "      <td>135000.0</td>\n",
       "      <td>0</td>\n",
       "    </tr>\n",
       "    <tr>\n",
       "      <th>3</th>\n",
       "      <td>135000.0</td>\n",
       "      <td>312682.5</td>\n",
       "      <td>0</td>\n",
       "    </tr>\n",
       "    <tr>\n",
       "      <th>4</th>\n",
       "      <td>121500.0</td>\n",
       "      <td>513000.0</td>\n",
       "      <td>0</td>\n",
       "    </tr>\n",
       "  </tbody>\n",
       "</table>\n",
       "</div>"
      ],
      "text/plain": [
       "   AMT_INCOME_TOTAL  AMT_CREDIT  TARGET\n",
       "0          202500.0    406597.5       1\n",
       "1          270000.0   1293502.5       0\n",
       "2           67500.0    135000.0       0\n",
       "3          135000.0    312682.5       0\n",
       "4          121500.0    513000.0       0"
      ]
     },
     "execution_count": 5,
     "metadata": {},
     "output_type": "execute_result"
    }
   ],
   "source": [
    "#抜き出し\n",
    "df_selected = df.loc[:, [\"AMT_INCOME_TOTAL\", \"AMT_CREDIT\",\"TARGET\"]]#, \"AMT_GOODS_PRICE\"\n",
    "df_selected.head()"
   ]
  },
  {
   "cell_type": "markdown",
   "id": "65fe5f9f-228b-4878-8872-d82d33c56aaf",
   "metadata": {},
   "source": [
    "欠損値のある行を削除"
   ]
  },
  {
   "cell_type": "code",
   "execution_count": 6,
   "id": "f5434562-9573-46bd-9a6a-90c0494f0234",
   "metadata": {},
   "outputs": [
    {
     "data": {
      "text/plain": [
       "(307511, 3)"
      ]
     },
     "execution_count": 6,
     "metadata": {},
     "output_type": "execute_result"
    }
   ],
   "source": [
    "#削除\n",
    "df_selected = df_selected.dropna(how='any')\n",
    "df_selected.head()\n",
    "df_selected.shape"
   ]
  },
  {
   "cell_type": "markdown",
   "id": "f1cdd54b-c6a8-411c-866f-53a3d765f31e",
   "metadata": {},
   "source": [
    "確認"
   ]
  },
  {
   "cell_type": "code",
   "execution_count": 7,
   "id": "ce570346-fd37-45c4-94c2-079fc43c03ed",
   "metadata": {},
   "outputs": [
    {
     "data": {
      "text/html": [
       "<div>\n",
       "<style scoped>\n",
       "    .dataframe tbody tr th:only-of-type {\n",
       "        vertical-align: middle;\n",
       "    }\n",
       "\n",
       "    .dataframe tbody tr th {\n",
       "        vertical-align: top;\n",
       "    }\n",
       "\n",
       "    .dataframe thead th {\n",
       "        text-align: right;\n",
       "    }\n",
       "</style>\n",
       "<table border=\"1\" class=\"dataframe\">\n",
       "  <thead>\n",
       "    <tr style=\"text-align: right;\">\n",
       "      <th></th>\n",
       "      <th>0</th>\n",
       "    </tr>\n",
       "  </thead>\n",
       "  <tbody>\n",
       "    <tr>\n",
       "      <th>AMT_INCOME_TOTAL</th>\n",
       "      <td>0</td>\n",
       "    </tr>\n",
       "    <tr>\n",
       "      <th>AMT_CREDIT</th>\n",
       "      <td>0</td>\n",
       "    </tr>\n",
       "    <tr>\n",
       "      <th>TARGET</th>\n",
       "      <td>0</td>\n",
       "    </tr>\n",
       "  </tbody>\n",
       "</table>\n",
       "</div>"
      ],
      "text/plain": [
       "                  0\n",
       "AMT_INCOME_TOTAL  0\n",
       "AMT_CREDIT        0\n",
       "TARGET            0"
      ]
     },
     "execution_count": 7,
     "metadata": {},
     "output_type": "execute_result"
    }
   ],
   "source": [
    "#確認\n",
    "missing_data = pd.DataFrame(df_selected.isnull().sum())\n",
    "missing_data"
   ]
  },
  {
   "cell_type": "markdown",
   "id": "10cbb57f-d8b4-4651-8541-2b02ca558ec1",
   "metadata": {},
   "source": [
    "## 学習モデル"
   ]
  },
  {
   "cell_type": "code",
   "execution_count": 8,
   "id": "45c9318a-3f67-412d-b289-cc709a28895d",
   "metadata": {},
   "outputs": [
    {
     "name": "stdout",
     "output_type": "stream",
     "text": [
      "X_train.shape : (230633, 2), X_test.shape : (76878, 2)\n",
      "y_train.shape : (230633,), y_test.shape : (76878,)\n"
     ]
    }
   ],
   "source": [
    "# sklearnのから各種モデルをimportする\n",
    "from sklearn.model_selection import train_test_split\n",
    "from sklearn.linear_model import LinearRegression\n",
    "from sklearn.svm import SVR\n",
    "from sklearn.tree import DecisionTreeRegressor\n",
    "from sklearn.ensemble import RandomForestRegressor\n",
    "from sklearn.metrics import mean_squared_error\n",
    "\n",
    "# データの前処理\n",
    "# データを分割\n",
    "X_train, X_test, y_train, y_test = train_test_split(df_selected.iloc[:, :-1], df_selected.loc[:, \"TARGET\"], test_size=0.25, random_state=42)\n",
    "\n",
    "# データを確認\n",
    "print(\"X_train.shape : {}, X_test.shape : {}\".format(X_train.shape, X_test.shape))\n",
    "print(\"y_train.shape : {}, y_test.shape : {}\".format(y_train.shape, y_test.shape))\n"
   ]
  },
  {
   "cell_type": "markdown",
   "id": "91531599-0f40-49ce-8b52-bec247ec4c4f",
   "metadata": {},
   "source": [
    "## 最近傍法"
   ]
  },
  {
   "cell_type": "code",
   "execution_count": 9,
   "id": "1ac08fe2-061b-46d0-8de3-e5c870e3e09a",
   "metadata": {},
   "outputs": [],
   "source": [
    "# sklearnから標準化をするモデルをインポートする\n",
    "from sklearn.preprocessing import StandardScaler\n",
    "# モデルをインスタンス化して、モデルの中にあるメソッドを使える状態にする。\n",
    "scaler = StandardScaler()\n",
    "\n",
    "# 標準化をする（訓練用データで.fitを行う）\n",
    "scaler.fit(X_train)\n",
    "\n",
    "# 標準化をする（訓練用、検証用双方で.transformを行う）\n",
    "X_train_transformed = scaler.transform(X_train)\n",
    "X_test_transformed = scaler.transform(X_test)"
   ]
  },
  {
   "cell_type": "code",
   "execution_count": 10,
   "id": "4354e1c1-5463-4bf9-9cdd-12f052ce26f9",
   "metadata": {},
   "outputs": [],
   "source": [
    "# sklearnから最近傍法をするモデルをインポートする\n",
    "from sklearn.neighbors import KNeighborsClassifier\n",
    "\n",
    "# モデルに引数を渡してインスタン化する\n",
    "neigh_1 = KNeighborsClassifier(n_neighbors=1)\n",
    "neigh_3 = KNeighborsClassifier(n_neighbors=3)\n",
    "neigh_5 = KNeighborsClassifier(n_neighbors=5)\n",
    "\n",
    "# 学習する（訓練用データを.fitする）\n",
    "neigh_1.fit(X_train_transformed, y_train)\n",
    "neigh_3.fit(X_train_transformed, y_train)\n",
    "neigh_5.fit(X_train_transformed, y_train)\n",
    "\n",
    "# 推定する（検証用データを.predictする）\n",
    "y_pred_neigh_1 = neigh_1.predict(X_test_transformed)\n",
    "y_pred_neigh_3 = neigh_3.predict(X_test_transformed)\n",
    "y_pred_neigh_5 = neigh_5.predict(X_test_transformed)"
   ]
  },
  {
   "cell_type": "code",
   "execution_count": 11,
   "id": "cf079025-a57a-4931-93c6-d978459a9268",
   "metadata": {},
   "outputs": [
    {
     "name": "stdout",
     "output_type": "stream",
     "text": [
      "1-nn\n",
      "acc : 0.8584640599391243\n",
      "precision : 0.09555018972059331\n",
      "recall : 0.08948473590696172\n",
      "f1 : 0.09241804987905582\n",
      "confusion matrix \n",
      " [[65443  5244]\n",
      " [ 5637   554]]\n",
      "------\n",
      "3-nn\n",
      "acc : 0.9009599625380473\n",
      "precision : 0.1172673480365788\n",
      "recall : 0.03521240510418349\n",
      "f1 : 0.054161490683229806\n",
      "confusion matrix \n",
      " [[69046  1641]\n",
      " [ 5973   218]]\n",
      "------\n",
      "5-nn\n",
      "acc : 0.9152553396290226\n",
      "precision : 0.10294117647058823\n",
      "recall : 0.006784041350347278\n",
      "f1 : 0.01272920139415063\n",
      "confusion matrix \n",
      " [[70321   366]\n",
      " [ 6149    42]]\n"
     ]
    }
   ],
   "source": [
    "# モデルmetrics をimportすればaccuracy等を一つずつインポートしなくても良い\n",
    "from sklearn import metrics \n",
    "\n",
    "# 評価する関数を作成する\n",
    "def evaluate(y_true, y_pred):\n",
    "    \"\"\"\n",
    "    2値分類の評価指標を計算する\n",
    "    \"\"\"\n",
    "    acc = metrics.accuracy_score(y_test, y_pred)\n",
    "    precision = metrics.precision_score(y_test, y_pred)\n",
    "    recall = metrics.recall_score(y_test, y_pred)\n",
    "    f1 = metrics.f1_score(y_test, y_pred)\n",
    "    confusion = metrics.confusion_matrix(y_test, y_pred)\n",
    "    return acc, precision, recall, f1, confusion\n",
    "\n",
    "print(\"1-nn\")\n",
    "print(\"acc : {}\\nprecision : {}\\nrecall : {}\\nf1 : {}\\nconfusion matrix \\n {}\".format(*evaluate(y_test, y_pred_neigh_1)))\n",
    "print(\"------\")\n",
    "\n",
    "print(\"3-nn\")\n",
    "print(\"acc : {}\\nprecision : {}\\nrecall : {}\\nf1 : {}\\nconfusion matrix \\n {}\".format(*evaluate(y_test, y_pred_neigh_3)))\n",
    "print(\"------\")\n",
    "\n",
    "print(\"5-nn\")\n",
    "print(\"acc : {}\\nprecision : {}\\nrecall : {}\\nf1 : {}\\nconfusion matrix \\n {}\".format(*evaluate(y_test, y_pred_neigh_5)))"
   ]
  },
  {
   "cell_type": "markdown",
   "id": "74c68108-b5b8-4a20-b6a2-665bac14ffa7",
   "metadata": {},
   "source": [
    "# 【問題3】テストデータに対する推定"
   ]
  },
  {
   "cell_type": "code",
   "execution_count": 12,
   "id": "5e44805a-f40f-40b1-acf8-ac07b19a7adf",
   "metadata": {},
   "outputs": [
    {
     "data": {
      "text/html": [
       "<div>\n",
       "<style scoped>\n",
       "    .dataframe tbody tr th:only-of-type {\n",
       "        vertical-align: middle;\n",
       "    }\n",
       "\n",
       "    .dataframe tbody tr th {\n",
       "        vertical-align: top;\n",
       "    }\n",
       "\n",
       "    .dataframe thead th {\n",
       "        text-align: right;\n",
       "    }\n",
       "</style>\n",
       "<table border=\"1\" class=\"dataframe\">\n",
       "  <thead>\n",
       "    <tr style=\"text-align: right;\">\n",
       "      <th></th>\n",
       "      <th>SK_ID_CURR</th>\n",
       "      <th>NAME_CONTRACT_TYPE</th>\n",
       "      <th>CODE_GENDER</th>\n",
       "      <th>FLAG_OWN_CAR</th>\n",
       "      <th>FLAG_OWN_REALTY</th>\n",
       "      <th>CNT_CHILDREN</th>\n",
       "      <th>AMT_INCOME_TOTAL</th>\n",
       "      <th>AMT_CREDIT</th>\n",
       "      <th>AMT_ANNUITY</th>\n",
       "      <th>AMT_GOODS_PRICE</th>\n",
       "      <th>...</th>\n",
       "      <th>FLAG_DOCUMENT_18</th>\n",
       "      <th>FLAG_DOCUMENT_19</th>\n",
       "      <th>FLAG_DOCUMENT_20</th>\n",
       "      <th>FLAG_DOCUMENT_21</th>\n",
       "      <th>AMT_REQ_CREDIT_BUREAU_HOUR</th>\n",
       "      <th>AMT_REQ_CREDIT_BUREAU_DAY</th>\n",
       "      <th>AMT_REQ_CREDIT_BUREAU_WEEK</th>\n",
       "      <th>AMT_REQ_CREDIT_BUREAU_MON</th>\n",
       "      <th>AMT_REQ_CREDIT_BUREAU_QRT</th>\n",
       "      <th>AMT_REQ_CREDIT_BUREAU_YEAR</th>\n",
       "    </tr>\n",
       "  </thead>\n",
       "  <tbody>\n",
       "    <tr>\n",
       "      <th>0</th>\n",
       "      <td>100001</td>\n",
       "      <td>Cash loans</td>\n",
       "      <td>F</td>\n",
       "      <td>N</td>\n",
       "      <td>Y</td>\n",
       "      <td>0</td>\n",
       "      <td>135000.0</td>\n",
       "      <td>568800.0</td>\n",
       "      <td>20560.5</td>\n",
       "      <td>450000.0</td>\n",
       "      <td>...</td>\n",
       "      <td>0</td>\n",
       "      <td>0</td>\n",
       "      <td>0</td>\n",
       "      <td>0</td>\n",
       "      <td>0.0</td>\n",
       "      <td>0.0</td>\n",
       "      <td>0.0</td>\n",
       "      <td>0.0</td>\n",
       "      <td>0.0</td>\n",
       "      <td>0.0</td>\n",
       "    </tr>\n",
       "    <tr>\n",
       "      <th>1</th>\n",
       "      <td>100005</td>\n",
       "      <td>Cash loans</td>\n",
       "      <td>M</td>\n",
       "      <td>N</td>\n",
       "      <td>Y</td>\n",
       "      <td>0</td>\n",
       "      <td>99000.0</td>\n",
       "      <td>222768.0</td>\n",
       "      <td>17370.0</td>\n",
       "      <td>180000.0</td>\n",
       "      <td>...</td>\n",
       "      <td>0</td>\n",
       "      <td>0</td>\n",
       "      <td>0</td>\n",
       "      <td>0</td>\n",
       "      <td>0.0</td>\n",
       "      <td>0.0</td>\n",
       "      <td>0.0</td>\n",
       "      <td>0.0</td>\n",
       "      <td>0.0</td>\n",
       "      <td>3.0</td>\n",
       "    </tr>\n",
       "    <tr>\n",
       "      <th>2</th>\n",
       "      <td>100013</td>\n",
       "      <td>Cash loans</td>\n",
       "      <td>M</td>\n",
       "      <td>Y</td>\n",
       "      <td>Y</td>\n",
       "      <td>0</td>\n",
       "      <td>202500.0</td>\n",
       "      <td>663264.0</td>\n",
       "      <td>69777.0</td>\n",
       "      <td>630000.0</td>\n",
       "      <td>...</td>\n",
       "      <td>0</td>\n",
       "      <td>0</td>\n",
       "      <td>0</td>\n",
       "      <td>0</td>\n",
       "      <td>0.0</td>\n",
       "      <td>0.0</td>\n",
       "      <td>0.0</td>\n",
       "      <td>0.0</td>\n",
       "      <td>1.0</td>\n",
       "      <td>4.0</td>\n",
       "    </tr>\n",
       "    <tr>\n",
       "      <th>3</th>\n",
       "      <td>100028</td>\n",
       "      <td>Cash loans</td>\n",
       "      <td>F</td>\n",
       "      <td>N</td>\n",
       "      <td>Y</td>\n",
       "      <td>2</td>\n",
       "      <td>315000.0</td>\n",
       "      <td>1575000.0</td>\n",
       "      <td>49018.5</td>\n",
       "      <td>1575000.0</td>\n",
       "      <td>...</td>\n",
       "      <td>0</td>\n",
       "      <td>0</td>\n",
       "      <td>0</td>\n",
       "      <td>0</td>\n",
       "      <td>0.0</td>\n",
       "      <td>0.0</td>\n",
       "      <td>0.0</td>\n",
       "      <td>0.0</td>\n",
       "      <td>0.0</td>\n",
       "      <td>3.0</td>\n",
       "    </tr>\n",
       "    <tr>\n",
       "      <th>4</th>\n",
       "      <td>100038</td>\n",
       "      <td>Cash loans</td>\n",
       "      <td>M</td>\n",
       "      <td>Y</td>\n",
       "      <td>N</td>\n",
       "      <td>1</td>\n",
       "      <td>180000.0</td>\n",
       "      <td>625500.0</td>\n",
       "      <td>32067.0</td>\n",
       "      <td>625500.0</td>\n",
       "      <td>...</td>\n",
       "      <td>0</td>\n",
       "      <td>0</td>\n",
       "      <td>0</td>\n",
       "      <td>0</td>\n",
       "      <td>NaN</td>\n",
       "      <td>NaN</td>\n",
       "      <td>NaN</td>\n",
       "      <td>NaN</td>\n",
       "      <td>NaN</td>\n",
       "      <td>NaN</td>\n",
       "    </tr>\n",
       "    <tr>\n",
       "      <th>...</th>\n",
       "      <td>...</td>\n",
       "      <td>...</td>\n",
       "      <td>...</td>\n",
       "      <td>...</td>\n",
       "      <td>...</td>\n",
       "      <td>...</td>\n",
       "      <td>...</td>\n",
       "      <td>...</td>\n",
       "      <td>...</td>\n",
       "      <td>...</td>\n",
       "      <td>...</td>\n",
       "      <td>...</td>\n",
       "      <td>...</td>\n",
       "      <td>...</td>\n",
       "      <td>...</td>\n",
       "      <td>...</td>\n",
       "      <td>...</td>\n",
       "      <td>...</td>\n",
       "      <td>...</td>\n",
       "      <td>...</td>\n",
       "      <td>...</td>\n",
       "    </tr>\n",
       "    <tr>\n",
       "      <th>48739</th>\n",
       "      <td>456221</td>\n",
       "      <td>Cash loans</td>\n",
       "      <td>F</td>\n",
       "      <td>N</td>\n",
       "      <td>Y</td>\n",
       "      <td>0</td>\n",
       "      <td>121500.0</td>\n",
       "      <td>412560.0</td>\n",
       "      <td>17473.5</td>\n",
       "      <td>270000.0</td>\n",
       "      <td>...</td>\n",
       "      <td>0</td>\n",
       "      <td>0</td>\n",
       "      <td>0</td>\n",
       "      <td>0</td>\n",
       "      <td>0.0</td>\n",
       "      <td>0.0</td>\n",
       "      <td>0.0</td>\n",
       "      <td>0.0</td>\n",
       "      <td>0.0</td>\n",
       "      <td>1.0</td>\n",
       "    </tr>\n",
       "    <tr>\n",
       "      <th>48740</th>\n",
       "      <td>456222</td>\n",
       "      <td>Cash loans</td>\n",
       "      <td>F</td>\n",
       "      <td>N</td>\n",
       "      <td>N</td>\n",
       "      <td>2</td>\n",
       "      <td>157500.0</td>\n",
       "      <td>622413.0</td>\n",
       "      <td>31909.5</td>\n",
       "      <td>495000.0</td>\n",
       "      <td>...</td>\n",
       "      <td>0</td>\n",
       "      <td>0</td>\n",
       "      <td>0</td>\n",
       "      <td>0</td>\n",
       "      <td>NaN</td>\n",
       "      <td>NaN</td>\n",
       "      <td>NaN</td>\n",
       "      <td>NaN</td>\n",
       "      <td>NaN</td>\n",
       "      <td>NaN</td>\n",
       "    </tr>\n",
       "    <tr>\n",
       "      <th>48741</th>\n",
       "      <td>456223</td>\n",
       "      <td>Cash loans</td>\n",
       "      <td>F</td>\n",
       "      <td>Y</td>\n",
       "      <td>Y</td>\n",
       "      <td>1</td>\n",
       "      <td>202500.0</td>\n",
       "      <td>315000.0</td>\n",
       "      <td>33205.5</td>\n",
       "      <td>315000.0</td>\n",
       "      <td>...</td>\n",
       "      <td>0</td>\n",
       "      <td>0</td>\n",
       "      <td>0</td>\n",
       "      <td>0</td>\n",
       "      <td>0.0</td>\n",
       "      <td>0.0</td>\n",
       "      <td>0.0</td>\n",
       "      <td>0.0</td>\n",
       "      <td>3.0</td>\n",
       "      <td>1.0</td>\n",
       "    </tr>\n",
       "    <tr>\n",
       "      <th>48742</th>\n",
       "      <td>456224</td>\n",
       "      <td>Cash loans</td>\n",
       "      <td>M</td>\n",
       "      <td>N</td>\n",
       "      <td>N</td>\n",
       "      <td>0</td>\n",
       "      <td>225000.0</td>\n",
       "      <td>450000.0</td>\n",
       "      <td>25128.0</td>\n",
       "      <td>450000.0</td>\n",
       "      <td>...</td>\n",
       "      <td>0</td>\n",
       "      <td>0</td>\n",
       "      <td>0</td>\n",
       "      <td>0</td>\n",
       "      <td>0.0</td>\n",
       "      <td>0.0</td>\n",
       "      <td>0.0</td>\n",
       "      <td>0.0</td>\n",
       "      <td>0.0</td>\n",
       "      <td>2.0</td>\n",
       "    </tr>\n",
       "    <tr>\n",
       "      <th>48743</th>\n",
       "      <td>456250</td>\n",
       "      <td>Cash loans</td>\n",
       "      <td>F</td>\n",
       "      <td>Y</td>\n",
       "      <td>N</td>\n",
       "      <td>0</td>\n",
       "      <td>135000.0</td>\n",
       "      <td>312768.0</td>\n",
       "      <td>24709.5</td>\n",
       "      <td>270000.0</td>\n",
       "      <td>...</td>\n",
       "      <td>0</td>\n",
       "      <td>0</td>\n",
       "      <td>0</td>\n",
       "      <td>0</td>\n",
       "      <td>0.0</td>\n",
       "      <td>0.0</td>\n",
       "      <td>0.0</td>\n",
       "      <td>0.0</td>\n",
       "      <td>1.0</td>\n",
       "      <td>4.0</td>\n",
       "    </tr>\n",
       "  </tbody>\n",
       "</table>\n",
       "<p>48744 rows × 121 columns</p>\n",
       "</div>"
      ],
      "text/plain": [
       "       SK_ID_CURR NAME_CONTRACT_TYPE CODE_GENDER FLAG_OWN_CAR FLAG_OWN_REALTY  \\\n",
       "0          100001         Cash loans           F            N               Y   \n",
       "1          100005         Cash loans           M            N               Y   \n",
       "2          100013         Cash loans           M            Y               Y   \n",
       "3          100028         Cash loans           F            N               Y   \n",
       "4          100038         Cash loans           M            Y               N   \n",
       "...           ...                ...         ...          ...             ...   \n",
       "48739      456221         Cash loans           F            N               Y   \n",
       "48740      456222         Cash loans           F            N               N   \n",
       "48741      456223         Cash loans           F            Y               Y   \n",
       "48742      456224         Cash loans           M            N               N   \n",
       "48743      456250         Cash loans           F            Y               N   \n",
       "\n",
       "       CNT_CHILDREN  AMT_INCOME_TOTAL  AMT_CREDIT  AMT_ANNUITY  \\\n",
       "0                 0          135000.0    568800.0      20560.5   \n",
       "1                 0           99000.0    222768.0      17370.0   \n",
       "2                 0          202500.0    663264.0      69777.0   \n",
       "3                 2          315000.0   1575000.0      49018.5   \n",
       "4                 1          180000.0    625500.0      32067.0   \n",
       "...             ...               ...         ...          ...   \n",
       "48739             0          121500.0    412560.0      17473.5   \n",
       "48740             2          157500.0    622413.0      31909.5   \n",
       "48741             1          202500.0    315000.0      33205.5   \n",
       "48742             0          225000.0    450000.0      25128.0   \n",
       "48743             0          135000.0    312768.0      24709.5   \n",
       "\n",
       "       AMT_GOODS_PRICE  ... FLAG_DOCUMENT_18 FLAG_DOCUMENT_19  \\\n",
       "0             450000.0  ...                0                0   \n",
       "1             180000.0  ...                0                0   \n",
       "2             630000.0  ...                0                0   \n",
       "3            1575000.0  ...                0                0   \n",
       "4             625500.0  ...                0                0   \n",
       "...                ...  ...              ...              ...   \n",
       "48739         270000.0  ...                0                0   \n",
       "48740         495000.0  ...                0                0   \n",
       "48741         315000.0  ...                0                0   \n",
       "48742         450000.0  ...                0                0   \n",
       "48743         270000.0  ...                0                0   \n",
       "\n",
       "      FLAG_DOCUMENT_20 FLAG_DOCUMENT_21 AMT_REQ_CREDIT_BUREAU_HOUR  \\\n",
       "0                    0                0                        0.0   \n",
       "1                    0                0                        0.0   \n",
       "2                    0                0                        0.0   \n",
       "3                    0                0                        0.0   \n",
       "4                    0                0                        NaN   \n",
       "...                ...              ...                        ...   \n",
       "48739                0                0                        0.0   \n",
       "48740                0                0                        NaN   \n",
       "48741                0                0                        0.0   \n",
       "48742                0                0                        0.0   \n",
       "48743                0                0                        0.0   \n",
       "\n",
       "       AMT_REQ_CREDIT_BUREAU_DAY  AMT_REQ_CREDIT_BUREAU_WEEK  \\\n",
       "0                            0.0                         0.0   \n",
       "1                            0.0                         0.0   \n",
       "2                            0.0                         0.0   \n",
       "3                            0.0                         0.0   \n",
       "4                            NaN                         NaN   \n",
       "...                          ...                         ...   \n",
       "48739                        0.0                         0.0   \n",
       "48740                        NaN                         NaN   \n",
       "48741                        0.0                         0.0   \n",
       "48742                        0.0                         0.0   \n",
       "48743                        0.0                         0.0   \n",
       "\n",
       "       AMT_REQ_CREDIT_BUREAU_MON  AMT_REQ_CREDIT_BUREAU_QRT  \\\n",
       "0                            0.0                        0.0   \n",
       "1                            0.0                        0.0   \n",
       "2                            0.0                        1.0   \n",
       "3                            0.0                        0.0   \n",
       "4                            NaN                        NaN   \n",
       "...                          ...                        ...   \n",
       "48739                        0.0                        0.0   \n",
       "48740                        NaN                        NaN   \n",
       "48741                        0.0                        3.0   \n",
       "48742                        0.0                        0.0   \n",
       "48743                        0.0                        1.0   \n",
       "\n",
       "       AMT_REQ_CREDIT_BUREAU_YEAR  \n",
       "0                             0.0  \n",
       "1                             3.0  \n",
       "2                             4.0  \n",
       "3                             3.0  \n",
       "4                             NaN  \n",
       "...                           ...  \n",
       "48739                         1.0  \n",
       "48740                         NaN  \n",
       "48741                         1.0  \n",
       "48742                         2.0  \n",
       "48743                         4.0  \n",
       "\n",
       "[48744 rows x 121 columns]"
      ]
     },
     "execution_count": 12,
     "metadata": {},
     "output_type": "execute_result"
    }
   ],
   "source": [
    "df_1 = pd.read_csv(\"application_test.csv\")\n",
    "\n",
    "df_1"
   ]
  },
  {
   "cell_type": "code",
   "execution_count": 13,
   "id": "22de9464-a70c-4a9f-b58a-b671faf8ee5e",
   "metadata": {},
   "outputs": [
    {
     "data": {
      "text/html": [
       "<div>\n",
       "<style scoped>\n",
       "    .dataframe tbody tr th:only-of-type {\n",
       "        vertical-align: middle;\n",
       "    }\n",
       "\n",
       "    .dataframe tbody tr th {\n",
       "        vertical-align: top;\n",
       "    }\n",
       "\n",
       "    .dataframe thead th {\n",
       "        text-align: right;\n",
       "    }\n",
       "</style>\n",
       "<table border=\"1\" class=\"dataframe\">\n",
       "  <thead>\n",
       "    <tr style=\"text-align: right;\">\n",
       "      <th></th>\n",
       "      <th>AMT_INCOME_TOTAL</th>\n",
       "      <th>AMT_CREDIT</th>\n",
       "    </tr>\n",
       "  </thead>\n",
       "  <tbody>\n",
       "    <tr>\n",
       "      <th>0</th>\n",
       "      <td>135000.0</td>\n",
       "      <td>568800.0</td>\n",
       "    </tr>\n",
       "    <tr>\n",
       "      <th>1</th>\n",
       "      <td>99000.0</td>\n",
       "      <td>222768.0</td>\n",
       "    </tr>\n",
       "    <tr>\n",
       "      <th>2</th>\n",
       "      <td>202500.0</td>\n",
       "      <td>663264.0</td>\n",
       "    </tr>\n",
       "    <tr>\n",
       "      <th>3</th>\n",
       "      <td>315000.0</td>\n",
       "      <td>1575000.0</td>\n",
       "    </tr>\n",
       "    <tr>\n",
       "      <th>4</th>\n",
       "      <td>180000.0</td>\n",
       "      <td>625500.0</td>\n",
       "    </tr>\n",
       "  </tbody>\n",
       "</table>\n",
       "</div>"
      ],
      "text/plain": [
       "   AMT_INCOME_TOTAL  AMT_CREDIT\n",
       "0          135000.0    568800.0\n",
       "1           99000.0    222768.0\n",
       "2          202500.0    663264.0\n",
       "3          315000.0   1575000.0\n",
       "4          180000.0    625500.0"
      ]
     },
     "execution_count": 13,
     "metadata": {},
     "output_type": "execute_result"
    }
   ],
   "source": [
    "#テストデータ抜き出し\n",
    "df_selected_1 = df_1.loc[:, [\"AMT_INCOME_TOTAL\", \"AMT_CREDIT\"]]#AMT_GOODS_PRICE\n",
    "df_selected_1.head()"
   ]
  },
  {
   "cell_type": "code",
   "execution_count": 14,
   "id": "6523f23e-efee-4117-8080-46866ef5b141",
   "metadata": {},
   "outputs": [
    {
     "name": "stdout",
     "output_type": "stream",
     "text": [
      "[[1. 0.]\n",
      " [1. 0.]\n",
      " [1. 0.]\n",
      " ...\n",
      " [1. 0.]\n",
      " [1. 0.]\n",
      " [1. 0.]]\n",
      "(48744, 2)\n",
      "<class 'numpy.ndarray'>\n"
     ]
    }
   ],
   "source": [
    "y_pred_neigh_5 = neigh_5.predict(df_selected_1)\n",
    "y_pred_neigh_5_proba = neigh_5.predict_proba(df_selected_1)\n",
    "print(y_pred_neigh_5_proba)\n",
    "print(y_pred_neigh_5_proba.shape)\n",
    "print(type(y_pred_neigh_5_proba))"
   ]
  },
  {
   "cell_type": "code",
   "execution_count": 15,
   "id": "2db05bf2-6916-4499-bdfa-603de153f9cf",
   "metadata": {},
   "outputs": [
    {
     "name": "stdout",
     "output_type": "stream",
     "text": [
      "[0. 0. 0. ... 0. 0. 0.]\n"
     ]
    }
   ],
   "source": [
    "answer = y_pred_neigh_5_proba[:,1]\n",
    "print(answer)"
   ]
  },
  {
   "cell_type": "code",
   "execution_count": 16,
   "id": "4fb58663-d8fe-4f8f-a300-6e1d4a4a63d5",
   "metadata": {},
   "outputs": [
    {
     "name": "stdout",
     "output_type": "stream",
     "text": [
      "       SK_ID_CURR    0\n",
      "0          100001  0.0\n",
      "1          100005  0.0\n",
      "2          100013  0.0\n",
      "3          100028  0.0\n",
      "4          100038  0.0\n",
      "...           ...  ...\n",
      "48739      456221  0.0\n",
      "48740      456222  0.0\n",
      "48741      456223  0.0\n",
      "48742      456224  0.0\n",
      "48743      456250  0.0\n",
      "\n",
      "[48744 rows x 2 columns]\n"
     ]
    }
   ],
   "source": [
    "df_selected_2 = df_1.loc[:, [\"SK_ID_CURR\"]]  #IDのカラムを抽出\n",
    "df_selected_3 = pd.Series(answer) #NP配列をDFに返還\n",
    "df_answer =pd.concat([df_selected_2,df_selected_3],axis = 1) #DF同士を結合\n",
    "print(df_answer)"
   ]
  },
  {
   "cell_type": "code",
   "execution_count": 17,
   "id": "0c39f28c-b23f-4e1c-872e-2db6994e13bf",
   "metadata": {},
   "outputs": [
    {
     "name": "stdout",
     "output_type": "stream",
     "text": [
      "       SK_ID_CURR  TARGET\n",
      "0          100001     0.0\n",
      "1          100005     0.0\n",
      "2          100013     0.0\n",
      "3          100028     0.0\n",
      "4          100038     0.0\n",
      "...           ...     ...\n",
      "48739      456221     0.0\n",
      "48740      456222     0.0\n",
      "48741      456223     0.0\n",
      "48742      456224     0.0\n",
      "48743      456250     0.0\n",
      "\n",
      "[48744 rows x 2 columns]\n"
     ]
    }
   ],
   "source": [
    "df_answer_1 = df_answer.rename(columns ={0:'TARGET'}) #0のカラムをTARGETに変更\n",
    "print(df_answer_1)"
   ]
  },
  {
   "cell_type": "code",
   "execution_count": 18,
   "id": "991fc010-7052-46d7-ae94-82e41a7f7ec7",
   "metadata": {},
   "outputs": [],
   "source": [
    "df_answer_1.to_csv('/Users/daisukesatou/diveintocode-ml/dic_sinyo.csv',index=False)\n",
    "#INDEXを除いたDFをCSVに書き込む"
   ]
  },
  {
   "cell_type": "code",
   "execution_count": 19,
   "id": "98899535-4275-4320-bd4d-896035127a7c",
   "metadata": {},
   "outputs": [
    {
     "name": "stdout",
     "output_type": "stream",
     "text": [
      "/Users/daisukesatou/diveintocode-ml\n"
     ]
    }
   ],
   "source": [
    "# 落とし込むカレントを検索\n",
    "import os\n",
    "\n",
    "path = os.getcwd()\n",
    "\n",
    "print(path)       "
   ]
  },
  {
   "cell_type": "markdown",
   "id": "1b923a4c-b7fc-4384-ae10-b3b0c29d33e7",
   "metadata": {},
   "source": [
    "- # Kaggleに提出、エラー無し"
   ]
  },
  {
   "cell_type": "markdown",
   "id": "0ceac8f7-714b-4fd8-84f3-7f856e798c44",
   "metadata": {},
   "source": [
    "# 【問題4】特徴量エンジニアリング\n",
    "## 精度を上げるために以下のような観点で 特徴量エンジニアリング（Feature Engineering） を行ってください。\n",
    "  - どの特徴量を使うか\n",
    "  - どう前処理をするか\n",
    "何をした時に検証データに対する評価指標がどのようになったかをまとめてください。最低5パターンの学習・検証を行ってください。"
   ]
  },
  {
   "cell_type": "code",
   "execution_count": 20,
   "id": "95d8a691-2404-4bd0-bfdc-c9f6b39b395b",
   "metadata": {},
   "outputs": [],
   "source": [
    "# 引数の値を変えてみる\n",
    "y_pred_neigh_7 = neigh_3.predict(df_selected_1)\n",
    "y_pred_neigh_7_proba = neigh_3.predict_proba(df_selected_1)"
   ]
  },
  {
   "cell_type": "code",
   "execution_count": 21,
   "id": "559b4a56-9ceb-4f1a-8872-eadeb3819ec0",
   "metadata": {},
   "outputs": [
    {
     "name": "stdout",
     "output_type": "stream",
     "text": [
      "[[1. 0.]\n",
      " [1. 0.]\n",
      " [1. 0.]\n",
      " ...\n",
      " [1. 0.]\n",
      " [1. 0.]\n",
      " [1. 0.]]\n",
      "(48744, 2)\n",
      "<class 'numpy.ndarray'>\n"
     ]
    }
   ],
   "source": [
    "print(y_pred_neigh_7_proba)\n",
    "print(y_pred_neigh_7_proba.shape)\n",
    "print(type(y_pred_neigh_7_proba))"
   ]
  },
  {
   "cell_type": "code",
   "execution_count": 22,
   "id": "e9be5ae0-2ecf-4b81-b9c3-f6f20462a874",
   "metadata": {},
   "outputs": [
    {
     "name": "stdout",
     "output_type": "stream",
     "text": [
      "[0. 0. 0. ... 0. 0. 0.]\n"
     ]
    }
   ],
   "source": [
    "#最近傍方の引数を変えてみる\n",
    "answer_1 = y_pred_neigh_7_proba[:,1]\n",
    "print(answer_1)"
   ]
  },
  {
   "cell_type": "code",
   "execution_count": 23,
   "id": "94c55422-c54d-4dfc-afec-96583630accf",
   "metadata": {},
   "outputs": [
    {
     "name": "stdout",
     "output_type": "stream",
     "text": [
      "       SK_ID_CURR  TARGET\n",
      "0          100001     0.0\n",
      "1          100005     0.0\n",
      "2          100013     0.0\n",
      "3          100028     0.0\n",
      "4          100038     0.0\n",
      "...           ...     ...\n",
      "48739      456221     0.0\n",
      "48740      456222     0.0\n",
      "48741      456223     0.0\n",
      "48742      456224     0.0\n",
      "48743      456250     0.0\n",
      "\n",
      "[48744 rows x 2 columns]\n"
     ]
    }
   ],
   "source": [
    "#問３と同じ処理\n",
    "df_selected_2 = df_1.loc[:, [\"SK_ID_CURR\"]]\n",
    "df_selected_3 = pd.Series(answer)\n",
    "df_answer =pd.concat([df_selected_2,df_selected_3],axis = 1)\n",
    "print(df_answer_1)"
   ]
  },
  {
   "cell_type": "markdown",
   "id": "714e9d97-03d7-45bb-bece-ccf28923913c",
   "metadata": {},
   "source": [
    "-  # 引数の値を変えてみたが特に変化は無し"
   ]
  },
  {
   "cell_type": "markdown",
   "id": "19eea841-c7da-4374-ba53-092f9579418e",
   "metadata": {},
   "source": [
    "## 特徴量を変えてみる。"
   ]
  },
  {
   "cell_type": "code",
   "execution_count": 24,
   "id": "1f681707-0d89-45ab-827b-86ab1ff2f396",
   "metadata": {},
   "outputs": [
    {
     "data": {
      "text/html": [
       "<div>\n",
       "<style scoped>\n",
       "    .dataframe tbody tr th:only-of-type {\n",
       "        vertical-align: middle;\n",
       "    }\n",
       "\n",
       "    .dataframe tbody tr th {\n",
       "        vertical-align: top;\n",
       "    }\n",
       "\n",
       "    .dataframe thead th {\n",
       "        text-align: right;\n",
       "    }\n",
       "</style>\n",
       "<table border=\"1\" class=\"dataframe\">\n",
       "  <thead>\n",
       "    <tr style=\"text-align: right;\">\n",
       "      <th></th>\n",
       "      <th>AMT_INCOME_TOTAL</th>\n",
       "      <th>AMT_GOODS_PRICE</th>\n",
       "    </tr>\n",
       "  </thead>\n",
       "  <tbody>\n",
       "    <tr>\n",
       "      <th>0</th>\n",
       "      <td>135000.0</td>\n",
       "      <td>450000.0</td>\n",
       "    </tr>\n",
       "    <tr>\n",
       "      <th>1</th>\n",
       "      <td>99000.0</td>\n",
       "      <td>180000.0</td>\n",
       "    </tr>\n",
       "    <tr>\n",
       "      <th>2</th>\n",
       "      <td>202500.0</td>\n",
       "      <td>630000.0</td>\n",
       "    </tr>\n",
       "    <tr>\n",
       "      <th>3</th>\n",
       "      <td>315000.0</td>\n",
       "      <td>1575000.0</td>\n",
       "    </tr>\n",
       "    <tr>\n",
       "      <th>4</th>\n",
       "      <td>180000.0</td>\n",
       "      <td>625500.0</td>\n",
       "    </tr>\n",
       "  </tbody>\n",
       "</table>\n",
       "</div>"
      ],
      "text/plain": [
       "   AMT_INCOME_TOTAL  AMT_GOODS_PRICE\n",
       "0          135000.0         450000.0\n",
       "1           99000.0         180000.0\n",
       "2          202500.0         630000.0\n",
       "3          315000.0        1575000.0\n",
       "4          180000.0         625500.0"
      ]
     },
     "execution_count": 24,
     "metadata": {},
     "output_type": "execute_result"
    }
   ],
   "source": [
    "#\"AMT_CREDIT\"を\"AMT_GOODS_PRICE\"に変更\n",
    "df_selected_2 = df_1.loc[:, [\"AMT_INCOME_TOTAL\",\"AMT_GOODS_PRICE\"]]\n",
    "df_selected_2.head()"
   ]
  },
  {
   "cell_type": "code",
   "execution_count": 25,
   "id": "cd7b00bf-67a7-4ca6-adaa-5f5e64cc86c4",
   "metadata": {},
   "outputs": [
    {
     "name": "stdout",
     "output_type": "stream",
     "text": [
      "[[1. 0.]\n",
      " [1. 0.]\n",
      " [1. 0.]\n",
      " ...\n",
      " [1. 0.]\n",
      " [1. 0.]\n",
      " [1. 0.]]\n",
      "(48744, 2)\n",
      "<class 'numpy.ndarray'>\n"
     ]
    }
   ],
   "source": [
    "# 問３と同じ処理\n",
    "y_pred_neigh_6 = neigh_5.predict(df_selected_2)\n",
    "y_pred_neigh_6_proba = neigh_5.predict_proba(df_selected_2)\n",
    "print(y_pred_neigh_6_proba)\n",
    "print(y_pred_neigh_6_proba.shape)\n",
    "print(type(y_pred_neigh_6_proba))"
   ]
  },
  {
   "cell_type": "code",
   "execution_count": 26,
   "id": "8d10be80-e206-4729-9164-905d0e80e34d",
   "metadata": {},
   "outputs": [
    {
     "name": "stdout",
     "output_type": "stream",
     "text": [
      "[0. 0. 0. ... 0. 0. 0.]\n"
     ]
    }
   ],
   "source": [
    "answer_1= y_pred_neigh_6_proba[:,1]\n",
    "print(answer_1)"
   ]
  },
  {
   "cell_type": "code",
   "execution_count": 27,
   "id": "3b605997-4916-4f13-8d83-fc990b82aa0f",
   "metadata": {},
   "outputs": [
    {
     "name": "stdout",
     "output_type": "stream",
     "text": [
      "       SK_ID_CURR  TARGET\n",
      "0          100001     0.0\n",
      "1          100005     0.0\n",
      "2          100013     0.0\n",
      "3          100028     0.0\n",
      "4          100038     0.0\n",
      "...           ...     ...\n",
      "48739      456221     0.0\n",
      "48740      456222     0.0\n",
      "48741      456223     0.0\n",
      "48742      456224     0.0\n",
      "48743      456250     0.0\n",
      "\n",
      "[48744 rows x 2 columns]\n"
     ]
    }
   ],
   "source": [
    "df_selected_4 = pd.Series(answer_1)\n",
    "df_selected_3 = df_1.loc[:, [\"SK_ID_CURR\"]]\n",
    "df_answer_2 =pd.concat([df_selected_3,df_selected_4],axis = 1)\n",
    "df_answer_3 = df_answer_2.rename(columns ={0:'TARGET'})\n",
    "print(df_answer_3)"
   ]
  },
  {
   "cell_type": "markdown",
   "id": "0d4e250a-6e2f-49eb-8518-595d4a6f53b7",
   "metadata": {},
   "source": [
    "-  # 特徴量を変えてみたが、ほぼ変化なし。"
   ]
  },
  {
   "cell_type": "markdown",
   "id": "18aeb188-2fa3-4802-9037-3ab84e67443a",
   "metadata": {},
   "source": [
    "# 前処理の変更"
   ]
  },
  {
   "cell_type": "markdown",
   "id": "ce5abd06-6ef5-457c-ab33-6d5db2a1331b",
   "metadata": {},
   "source": [
    "## 学習方法を変えてみる"
   ]
  },
  {
   "cell_type": "code",
   "execution_count": 28,
   "id": "7185bf71-e84a-4ee9-9c85-b510991ca8c7",
   "metadata": {},
   "outputs": [
    {
     "name": "stdout",
     "output_type": "stream",
     "text": [
      "X_train.shape : (230633, 2), X_test.shape : (76878, 2)\n",
      "y_train.shape : (230633,), y_test.shape : (76878,)\n"
     ]
    }
   ],
   "source": [
    "# データの前処理\n",
    "# データを分割\n",
    "X_train, X_test, y_train, y_test = train_test_split(df_selected.iloc[:, :-1], df_selected.loc[:, \"TARGET\"], test_size=0.25, random_state=42)\n",
    "\n",
    "# データを確認\n",
    "print(\"X_train.shape : {}, X_test.shape : {}\".format(X_train.shape, X_test.shape))\n",
    "print(\"y_train.shape : {}, y_test.shape : {}\".format(y_train.shape, y_test.shape))\n"
   ]
  },
  {
   "cell_type": "code",
   "execution_count": 29,
   "id": "1c1bdb8d-2db6-4f5e-b928-e7d81527ca53",
   "metadata": {},
   "outputs": [],
   "source": [
    "# importしたモデルをインスタンス化\n",
    "from sklearn.linear_model import LogisticRegression\n",
    "from sklearn.svm import SVC\n",
    "from sklearn.tree import DecisionTreeClassifier\n",
    "from sklearn.ensemble import RandomForestClassifier\n",
    "\n",
    "lr = LogisticRegression()\n",
    "svc = SVC()\n",
    "tree = DecisionTreeClassifier()\n",
    "r_forest_c = RandomForestClassifier()"
   ]
  },
  {
   "cell_type": "code",
   "execution_count": 30,
   "id": "7f8f99bf-320f-45bf-a087-9ba837cd5988",
   "metadata": {},
   "outputs": [],
   "source": [
    "# 評価する関数を作成する\n",
    "def evaluate(y_true, y_pred):\n",
    "    \"\"\"\n",
    "    2値分類の評価指標を計算する\n",
    "    \"\"\"\n",
    "    acc = metrics.accuracy_score(y_test, y_pred)\n",
    "    precision = metrics.precision_score(y_test, y_pred)\n",
    "    recall = metrics.recall_score(y_test, y_pred)\n",
    "    f1 = metrics.f1_score(y_test, y_pred)\n",
    "    confusion = metrics.confusion_matrix(y_test, y_pred)\n",
    "    return acc, precision, recall, f1, confusion\n"
   ]
  },
  {
   "cell_type": "code",
   "execution_count": 31,
   "id": "ee14cad3-86c6-4605-9d41-ba3be07e1548",
   "metadata": {},
   "outputs": [
    {
     "name": "stdout",
     "output_type": "stream",
     "text": [
      "Logistic Regression\n",
      "acc : 0.9194698093082546\n",
      "precision : 0.0\n",
      "recall : 0.0\n",
      "f1 : 0.0\n",
      "confusion matrix \n",
      " [[70687     0]\n",
      " [ 6191     0]]\n"
     ]
    }
   ],
   "source": [
    "#ロジスティック回帰\n",
    "print(\"Logistic Regression\")\n",
    "lr.fit(X_train, y_train)\n",
    "y_pred = lr.predict(X_test)\n",
    "\n",
    "print(\"acc : {}\\nprecision : {}\\nrecall : {}\\nf1 : {}\\nconfusion matrix \\n {}\".format(*evaluate(y_test, y_pred)))"
   ]
  },
  {
   "cell_type": "code",
   "execution_count": 32,
   "id": "2eaac89c-f1f7-4b6d-945d-5ef475101212",
   "metadata": {},
   "outputs": [
    {
     "name": "stdout",
     "output_type": "stream",
     "text": [
      "[0.12197004 0.21851743 0.05171551 ... 0.07275167 0.0500477  0.14603286]\n"
     ]
    }
   ],
   "source": [
    "#検証\n",
    "y_pred_lr = lr.predict(df_selected_2)\n",
    "y_pred_lr_proba = lr.predict_proba(df_selected_2)\n",
    "answer_2= y_pred_lr_proba[:,1]\n",
    "print(answer_2)"
   ]
  },
  {
   "cell_type": "markdown",
   "id": "71b044c6-37c5-4a4f-9c36-a4f3812f7650",
   "metadata": {},
   "source": [
    "- # ロジスティック回帰による学習ではわずかながら変化があった。"
   ]
  },
  {
   "cell_type": "code",
   "execution_count": 33,
   "id": "650ef1a4-ac77-4955-bda9-c5191c2f329a",
   "metadata": {},
   "outputs": [
    {
     "name": "stdout",
     "output_type": "stream",
     "text": [
      "Decision Tree\n",
      "acc : 0.906800385025625\n",
      "precision : 0.0865874363327674\n",
      "recall : 0.016475528993700535\n",
      "f1 : 0.027683539150495318\n",
      "confusion matrix \n",
      " [[69611  1076]\n",
      " [ 6089   102]]\n"
     ]
    }
   ],
   "source": [
    "#決定木\n",
    "print(\"Decision Tree\")\n",
    "tree.fit(X_train, y_train)\n",
    "y_pred = tree.predict(X_test)\n",
    "print(\"acc : {}\\nprecision : {}\\nrecall : {}\\nf1 : {}\\nconfusion matrix \\n {}\".format(*evaluate(y_test, y_pred)))"
   ]
  },
  {
   "cell_type": "code",
   "execution_count": 34,
   "id": "49694aee-5224-433e-863e-a5c6af2e88ac",
   "metadata": {},
   "outputs": [
    {
     "name": "stdout",
     "output_type": "stream",
     "text": [
      "[0.13355049 0.10769231 0.03333333 ... 0.07407407 0.09045226 0.05408516]\n"
     ]
    }
   ],
   "source": [
    "y_pred_tree = tree.predict(df_selected_2)\n",
    "y_pred_tree_proba = tree.predict_proba(df_selected_2)\n",
    "answer_3= y_pred_tree_proba[:,1]\n",
    "print(answer_3)"
   ]
  },
  {
   "cell_type": "markdown",
   "id": "928d318a-81b1-44a5-a7e3-71b2d6a44db4",
   "metadata": {},
   "source": [
    "- # 決定木による学習でもわずかながら変化があった。"
   ]
  },
  {
   "cell_type": "code",
   "execution_count": 35,
   "id": "e72ec4e1-00ba-4237-b56f-21553ae8a792",
   "metadata": {},
   "outputs": [
    {
     "name": "stdout",
     "output_type": "stream",
     "text": [
      "Random Forest\n",
      "acc : 0.9089596503551081\n",
      "precision : 0.09109311740890688\n",
      "recall : 0.014537231465029882\n",
      "f1 : 0.025073129962390302\n",
      "confusion matrix \n",
      " [[69789   898]\n",
      " [ 6101    90]]\n"
     ]
    }
   ],
   "source": [
    "#ランダムフォレスト\n",
    "print(\"Random Forest\")\n",
    "r_forest_c.fit(X_train, y_train)\n",
    "y_pred = r_forest_c.predict(X_test)\n",
    "print(\"acc : {}\\nprecision : {}\\nrecall : {}\\nf1 : {}\\nconfusion matrix \\n {}\".format(*evaluate(y_test, y_pred)))"
   ]
  },
  {
   "cell_type": "code",
   "execution_count": 36,
   "id": "6b8e7b50-8dc5-43ff-9487-2c2b650b6198",
   "metadata": {},
   "outputs": [
    {
     "name": "stdout",
     "output_type": "stream",
     "text": [
      "[0.13486872 0.10604242 0.02952028 ... 0.07360684 0.09156395 0.05444626]\n"
     ]
    }
   ],
   "source": [
    "y_pred_forest = r_forest_c.predict(df_selected_2)\n",
    "y_pred_forest_proba = r_forest_c.predict_proba(df_selected_2)\n",
    "answer_4= y_pred_forest_proba[:,1]\n",
    "print(answer_4)"
   ]
  },
  {
   "cell_type": "markdown",
   "id": "fa706f7d-dc1f-48d5-a9fe-630c9675f728",
   "metadata": {},
   "source": [
    "- # ランダムフォレストの結果をみても微細ながら変化は出た。"
   ]
  },
  {
   "cell_type": "markdown",
   "id": "4b32fe7f-c8d0-47ad-a93b-58539aee8238",
   "metadata": {},
   "source": [
    "## 以上　５項目を検証した結果になります。"
   ]
  }
 ],
 "metadata": {
  "kernelspec": {
   "display_name": "Python 3",
   "language": "python",
   "name": "python3"
  },
  "language_info": {
   "codemirror_mode": {
    "name": "ipython",
    "version": 3
   },
   "file_extension": ".py",
   "mimetype": "text/x-python",
   "name": "python",
   "nbconvert_exporter": "python",
   "pygments_lexer": "ipython3",
   "version": "3.8.8"
  }
 },
 "nbformat": 4,
 "nbformat_minor": 5
}
